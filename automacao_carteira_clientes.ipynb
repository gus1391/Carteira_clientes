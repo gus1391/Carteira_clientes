{
 "cells": [
  {
   "cell_type": "code",
   "execution_count": 1,
   "id": "c7337ae5",
   "metadata": {},
   "outputs": [],
   "source": [
    "#imports\n",
    "import pandas as pd\n",
    "import os"
   ]
  },
  {
   "cell_type": "code",
   "execution_count": 2,
   "id": "8552813a",
   "metadata": {},
   "outputs": [],
   "source": [
    "#buscando base de dados\n",
    "df_base = pd.read_excel('dados/BASE.xlsm')\n",
    "#obs: base de dados com várias abas. para definir a aba correta usei sheet_name\n",
    "df_implantados = pd.read_excel('C:\\\\Users\\\\Gustavo\\\\Dropbox\\\\ADMINISTRATIVO\\\\- CONTRATOS 2023\\\\IMPLANTADOS NOVOS.xlsm', sheet_name='Contratos')\n",
    "#importar datasets\n",
    "df1 = pd.read_excel('dados/NPS - 45 DIAS.xlsx', sheet_name='Respostas ao formulário 1')"
   ]
  },
  {
   "cell_type": "code",
   "execution_count": 3,
   "id": "e4e1159e",
   "metadata": {},
   "outputs": [],
   "source": [
    "#importar dataset das colunas\n",
    "df1_colum = pd.read_excel('dados/Colunas/NPS - 45 DIAS colums.xlsx')"
   ]
  },
  {
   "cell_type": "code",
   "execution_count": 4,
   "id": "23ab7eb8",
   "metadata": {},
   "outputs": [],
   "source": [
    "#cria lista com o nome das colunas do dataset\n",
    "colunas1 = df1_colum.columns.tolist()"
   ]
  },
  {
   "cell_type": "code",
   "execution_count": 5,
   "id": "b92f812a",
   "metadata": {},
   "outputs": [],
   "source": [
    "#deleta as colunas que não estão na lista\n",
    "df1 = df1.loc[:, colunas1]"
   ]
  },
  {
   "cell_type": "code",
   "execution_count": 6,
   "id": "e407a39d",
   "metadata": {},
   "outputs": [],
   "source": [
    "def salvar_dataframe(dataframe, nome_arquivo):\n",
    "    # Define o caminho onde o arquivo será salvo\n",
    "    caminho_salvar = 'C:\\\\Users\\\\Gustavo\\\\Documents\\\\Mont seguro\\\\Carteira de Clientes\\\\'\n",
    "    # Define o nome completo do arquivo, incluindo o caminho\n",
    "    caminho_completo = os.path.join(caminho_salvar, nome_arquivo)\n",
    "    # Salva o DataFrame em um arquivo Excel\n",
    "    dataframe.to_excel(caminho_completo, index=False)"
   ]
  },
  {
   "cell_type": "code",
   "execution_count": 7,
   "id": "08534b17",
   "metadata": {},
   "outputs": [],
   "source": [
    "salvar_dataframe(df1, 'NPS - 45 DIAS.xlsx')"
   ]
  },
  {
   "cell_type": "code",
   "execution_count": 8,
   "id": "e9f12ffe",
   "metadata": {},
   "outputs": [],
   "source": [
    "# filtra apenas os clientes com STATUS = 'IMPLEMENTADO'\n",
    "df_implantados = df_implantados.query('STATUS == \"IMPLANTADO\"')"
   ]
  },
  {
   "cell_type": "code",
   "execution_count": 9,
   "id": "3cd2bbf5",
   "metadata": {},
   "outputs": [],
   "source": [
    "#Primeiro, extrair uma lista dos nomes de empresas da planilha base:\n",
    "nomes_base = list(df_base['NOME EMPRESA '])\n"
   ]
  },
  {
   "cell_type": "code",
   "execution_count": 10,
   "id": "370fa5c3",
   "metadata": {},
   "outputs": [],
   "source": [
    "# cria uma máscara booleana que identifica as empresas que não estão na planilha 'BASE.xlsx'\n",
    "mascara = df_implantados['NOME EMPRESA '].isin(nomes_base) == False\n"
   ]
  },
  {
   "cell_type": "code",
   "execution_count": 11,
   "id": "67b8d6a4",
   "metadata": {},
   "outputs": [],
   "source": [
    "# seleciona apenas as linhas em que a empresa não está na planilha 'BASE.xlsx'\n",
    "novos_clientes = df_implantados[mascara]\n"
   ]
  },
  {
   "cell_type": "code",
   "execution_count": 12,
   "id": "2f58e82e",
   "metadata": {},
   "outputs": [],
   "source": [
    "# adiciona as novas linhas à planilha 'BASE.xlsx'\n",
    "df_base = pd.concat([df_base, novos_clientes])"
   ]
  },
  {
   "cell_type": "code",
   "execution_count": 13,
   "id": "f8d8bb2f",
   "metadata": {},
   "outputs": [],
   "source": [
    "# salva o DataFrame como um arquivo Excel com o nome BASE.xlsx na pasta C:\\Users\\Gustavo\\Documents\\Mont seguro\\Carteira de Clientes\n",
    "df_base.to_excel('C:\\\\Users\\\\Gustavo\\\\Documents\\\\Mont seguro\\\\Carteira de Clientes\\\\BASE.xlsx', index=False)\n"
   ]
  },
  {
   "cell_type": "code",
   "execution_count": null,
   "id": "2246f785",
   "metadata": {},
   "outputs": [],
   "source": []
  }
 ],
 "metadata": {
  "kernelspec": {
   "display_name": "Python 3 (ipykernel)",
   "language": "python",
   "name": "python3"
  },
  "language_info": {
   "codemirror_mode": {
    "name": "ipython",
    "version": 3
   },
   "file_extension": ".py",
   "mimetype": "text/x-python",
   "name": "python",
   "nbconvert_exporter": "python",
   "pygments_lexer": "ipython3",
   "version": "3.9.13"
  }
 },
 "nbformat": 4,
 "nbformat_minor": 5
}
